{
 "cells": [
  {
   "cell_type": "markdown",
   "metadata": {},
   "source": [
    "CODE USED TO GENERATE PLOTS FOR MODELS, WHERE IT DIDNT GENERATE DURING TRAINING PROCESS"
   ]
  },
  {
   "cell_type": "code",
   "execution_count": null,
   "metadata": {},
   "outputs": [],
   "source": [
    "import matplotlib.pyplot as plt\n",
    "import seaborn as sns\n",
    "import numpy as np\n",
    "\n",
    "# Set style\n",
    "plt.style.use('seaborn-v0_8')\n",
    "\n",
    "# Training and validation losses for each fold\n",
    "fold1_train = [0.1947, 0.1822, 0.1775, 0.1750, 0.1739, 0.1718, 0.1689, 0.1682, 0.1644, 0.1611]\n",
    "fold1_val = [0.1887, 0.1802, 0.1775, 0.1775, 0.1779, 0.1772, 0.1780, 0.1780, 0.1777, 0.1807]\n",
    "\n",
    "fold2_train = [0.1957, 0.1815, 0.1777, 0.1749, 0.1731, 0.1718, 0.1689, 0.1678, 0.1657, 0.1625]\n",
    "fold2_val = [0.1825, 0.1809, 0.1781, 0.1793, 0.1783, 0.1776, 0.1787, 0.1786, 0.1789, 0.1786]\n",
    "\n",
    "fold3_train = [0.1960]\n",
    "fold3_val = [0.1752]\n",
    "\n",
    "\n",
    "plt.figure(figsize=(15, 8))\n",
    "\n",
    "# Plot each fold\n",
    "epochs1 = range(1, len(fold1_train) + 1)\n",
    "epochs2 = range(1, len(fold2_train) + 1)\n",
    "epochs3 = range(1, len(fold3_train) + 1)\n",
    "\n",
    "# Plot training losses\n",
    "plt.plot(epochs1, fold1_train, '--', color='#3498db', alpha=0.5, label='Fold 1 Train')\n",
    "plt.plot(epochs2, fold2_train, '--', color='#2ecc71', alpha=0.5, label='Fold 2 Train')\n",
    "plt.plot(epochs3, fold3_train, '--', color='#e74c3c', alpha=0.5, label='Fold 3 Train')\n",
    "\n",
    "# Plot validation losses\n",
    "plt.plot(epochs1, fold1_val, '-', color='#3498db', marker='o', label='Fold 1 Val')\n",
    "plt.plot(epochs2, fold2_val, '-', color='#2ecc71', marker='o', label='Fold 2 Val')\n",
    "plt.plot(epochs3, fold3_val, '-', color='#e74c3c', marker='o', label='Fold 3 Val')\n",
    "\n",
    "plt.title('Training and Validation Loss by Fold', fontsize=14, pad=15)\n",
    "plt.xlabel('Epoch', fontsize=12)\n",
    "plt.ylabel('RMSE Loss', fontsize=12)\n",
    "plt.grid(True, alpha=0.3)\n",
    "plt.legend(bbox_to_anchor=(1.05, 1), loc='upper left')\n",
    "\n",
    "# Add text box with final metrics\n",
    "textstr = (f'Best Fold 1: 0.1772\\n'\n",
    "          f'Best Fold 2: 0.1776\\n'\n",
    "          f'Fold 3 (incomplete): 0.1752')\n",
    "props = dict(boxstyle='round', facecolor='white', alpha=0.8)\n",
    "plt.text(0.02, 0.98, textstr, transform=plt.gca().transAxes, fontsize=10,\n",
    "         verticalalignment='top', bbox=props)\n",
    "\n",
    "plt.tight_layout()\n",
    "plt.show()"
   ]
  }
 ],
 "metadata": {
  "kernelspec": {
   "display_name": "tf",
   "language": "python",
   "name": "python3"
  },
  "language_info": {
   "name": "python",
   "version": "3.9.21"
  }
 },
 "nbformat": 4,
 "nbformat_minor": 2
}
